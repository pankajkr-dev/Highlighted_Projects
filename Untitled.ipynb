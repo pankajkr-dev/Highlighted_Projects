{
 "cells": [
  {
   "cell_type": "code",
   "execution_count": 2,
   "id": "045d2ddc-a2e8-43c6-94cb-b820393fbce9",
   "metadata": {},
   "outputs": [
    {
     "name": "stdout",
     "output_type": "stream",
     "text": [
      "Original Content:\n",
      " This is the original content.Line 2 of original content.\n",
      "Updated Content: This is the new content.Line 2 of new content.\n"
     ]
    }
   ],
   "source": [
    "with open(\"mydata.txt\", \"w\") as file:\n",
    "    file.write(\"This is the original content.Line 2 of original content.\")\n",
    "\n",
    "with open(\"mydata.txt\", \"r\") as file:\n",
    "    original_content = file.read()\n",
    "    print(\"Original Content:\\n\", original_content)\n",
    "\n",
    "with open(\"mydata.txt\", \"w\") as file:\n",
    "    file.write(\"This is the new content.Line 2 of new content.\")\n",
    "\n",
    "\n",
    "with open(\"mydata.txt\", \"r\") as file:\n",
    "    updated_content = file.read()\n",
    "    print(\"Updated Content:\", updated_content)"
   ]
  },
  {
   "cell_type": "code",
   "execution_count": null,
   "id": "b0926d5f-b554-49e9-8377-7dbd4e5335f5",
   "metadata": {},
   "outputs": [],
   "source": [
    "with open(\"mydata.txt\", \"w\") as file:\n",
    "    file.write(\"This is the original content. Line 2 of original content.\")\n",
    "\n",
    "with open(\"mydata.txt\", \"r\") as file:\n",
    "    original_content= file.read()\n",
    "    print(\"Original Content:\\n\", original_content)\n",
    "\n",
    "    open(\"mydata.txt\", \"r+\")\n",
    "    print(\"updated content \")\n",
    "    f."
   ]
  },
  {
   "cell_type": "code",
   "execution_count": null,
   "id": "a0d0f8e1-8e57-4b4a-8951-50135072c10c",
   "metadata": {},
   "outputs": [],
   "source": []
  },
  {
   "cell_type": "code",
   "execution_count": null,
   "id": "b0c5eded-68f0-4c5d-b7c9-5fd1ad9b12b8",
   "metadata": {},
   "outputs": [],
   "source": []
  }
 ],
 "metadata": {
  "kernelspec": {
   "display_name": "Python 3 (ipykernel)",
   "language": "python",
   "name": "python3"
  },
  "language_info": {
   "codemirror_mode": {
    "name": "ipython",
    "version": 3
   },
   "file_extension": ".py",
   "mimetype": "text/x-python",
   "name": "python",
   "nbconvert_exporter": "python",
   "pygments_lexer": "ipython3",
   "version": "3.12.7"
  }
 },
 "nbformat": 4,
 "nbformat_minor": 5
}
